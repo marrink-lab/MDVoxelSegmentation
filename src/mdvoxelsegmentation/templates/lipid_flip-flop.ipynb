{
 "cells": [
  {
   "cell_type": "markdown",
   "id": "f9d341fb",
   "metadata": {},
   "source": [
    "# Example for lipid flip-flop using segmentation\n",
    "This document contains a worked example for calculating lipid flip-flop using segmentation data. By default the cholesterol will be tracked and plotted. In the end an example of plotting the total flips per frame is given, as well as the total up and down flips seperately.\n",
    "\n",
    "## Dependencies"
   ]
  },
  {
   "cell_type": "code",
   "execution_count": 1,
   "id": "dd5b04ae",
   "metadata": {},
   "outputs": [],
   "source": [
    "import matplotlib.pyplot as plt\n",
    "import numpy as np\n",
    "import MDAnalysis as mda"
   ]
  },
  {
   "cell_type": "code",
   "execution_count": 2,
   "id": "6b72f719",
   "metadata": {},
   "outputs": [],
   "source": [
    "gro = '../eq_dry.gro'\n",
    "xtc = '../md_dry.xtc'\n",
    "segmentation_data = '../segmentation_new/clusters.npy'"
   ]
  },
  {
   "cell_type": "markdown",
   "id": "085f5f91",
   "metadata": {},
   "source": [
    "## Loading the data\n",
    "Ignore the errors MDA throws due to missing masses. It doesn't know what to do with the CG beads, but its fine as long as we do not use any mass related features."
   ]
  },
  {
   "cell_type": "code",
   "execution_count": 3,
   "id": "e6e2b929",
   "metadata": {},
   "outputs": [
    {
     "name": "stderr",
     "output_type": "stream",
     "text": [
      "/home/bart/.virtualenvs/md/lib/python3.8/site-packages/MDAnalysis/topology/guessers.py:146: UserWarning: Failed to guess the mass for the following atom types: D\n",
      "  warnings.warn(\"Failed to guess the mass for the following atom types: {}\".format(atom_type))\n",
      "/home/bart/.virtualenvs/md/lib/python3.8/site-packages/MDAnalysis/topology/guessers.py:146: UserWarning: Failed to guess the mass for the following atom types: G\n",
      "  warnings.warn(\"Failed to guess the mass for the following atom types: {}\".format(atom_type))\n",
      "/home/bart/.virtualenvs/md/lib/python3.8/site-packages/MDAnalysis/topology/guessers.py:146: UserWarning: Failed to guess the mass for the following atom types: R\n",
      "  warnings.warn(\"Failed to guess the mass for the following atom types: {}\".format(atom_type))\n"
     ]
    }
   ],
   "source": [
    "u = mda.Universe(gro, xtc)"
   ]
  },
  {
   "cell_type": "code",
   "execution_count": 4,
   "id": "7ad0b99a",
   "metadata": {},
   "outputs": [],
   "source": [
    "segmentation = np.load(segmentation_data)"
   ]
  },
  {
   "cell_type": "markdown",
   "id": "fd5f52c9",
   "metadata": {},
   "source": [
    "## Helper classes\n",
    "Here we neatly group some of the bookkeeping to keep our logic clean."
   ]
  },
  {
   "cell_type": "code",
   "execution_count": 5,
   "id": "f8375a02",
   "metadata": {},
   "outputs": [],
   "source": [
    "class Container():\n",
    "    \"A simple container class for our universe and segmentation data.\"\n",
    "    def __init__(self, universe, segmentation):\n",
    "        self.u = universe\n",
    "        self.segmentation = segmentation\n",
    "    \n",
    "    def get_segment_from_resid(self, resid):\n",
    "        \"\"\"Returns the residue segment id in the current frame.\"\"\"\n",
    "        residue_index = self.u.residues[resid].atoms[0].ix\n",
    "        current_frame = self.u.trajectory.frame\n",
    "        residue_segment = self.segmentation[current_frame, residue_index] \n",
    "        return residue_segment\n",
    "    \n",
    "    def get_segments_from_selection(self, selection):\n",
    "        \"\"\"Returns an array of lipids segments for the given resname \n",
    "        in the current frame. The selection should adhere\n",
    "        to the basic mda selection syntax.\"\"\"\n",
    "        selection = self.u.select_atoms(selection)\n",
    "        resids = selection.residues.ix\n",
    "        segments = [container.get_segment_from_resid(resid) \n",
    "                        for resid in resids]\n",
    "        return np.asarray(segments, dtype=int)"
   ]
  },
  {
   "cell_type": "markdown",
   "id": "f9b0fd19",
   "metadata": {},
   "source": [
    "## General approach for calculating the flip-flops\n",
    "Here we show some useful syntax in tackling the problem. We need to be able to find the segment for our lipids of interestWe will do this for all the frames. Then we check which lipid segments have changed. Remember that not all lipids will always have a (relevant) segment assigned, which complicates things a little bit."
   ]
  },
  {
   "cell_type": "code",
   "execution_count": 6,
   "id": "12736f61",
   "metadata": {},
   "outputs": [],
   "source": [
    "# Create our container\n",
    "container = Container(u, segmentation)"
   ]
  },
  {
   "cell_type": "code",
   "execution_count": 7,
   "id": "b5097468",
   "metadata": {},
   "outputs": [],
   "source": [
    "# We explicitly state our leaflets and lipids of interest\n",
    "leaflet1 = 1\n",
    "leaflet2 = 2\n",
    "residues = container.u.select_atoms('resname CHOL').residues"
   ]
  },
  {
   "cell_type": "code",
   "execution_count": 8,
   "id": "f26906eb",
   "metadata": {},
   "outputs": [
    {
     "data": {
      "text/plain": [
       "< Timestep 0 with unit cell dimensions [98.5118   98.5118   96.185394 90.       90.       90.      ] >"
      ]
     },
     "execution_count": 8,
     "metadata": {},
     "output_type": "execute_result"
    }
   ],
   "source": [
    "# Set the active frame to frame 0\n",
    "container.u.trajectory[0]"
   ]
  },
  {
   "cell_type": "code",
   "execution_count": 9,
   "id": "c83b119e",
   "metadata": {},
   "outputs": [
    {
     "data": {
      "text/plain": [
       "(7327, 66)"
      ]
     },
     "execution_count": 9,
     "metadata": {},
     "output_type": "execute_result"
    }
   ],
   "source": [
    "# Preparing our segment per resid array\n",
    "segments_per_frame = np.zeros((len(container.u.trajectory), \n",
    "                               len(residues)))\n",
    "segments_per_frame.shape"
   ]
  },
  {
   "cell_type": "code",
   "execution_count": 44,
   "id": "1d885617",
   "metadata": {},
   "outputs": [
    {
     "name": "stdout",
     "output_type": "stream",
     "text": [
      "Working on frame 7327/7327.             "
     ]
    }
   ],
   "source": [
    "# Obtain the resid segment for each frame\n",
    "for idx, frame in enumerate(container.u.trajectory):\n",
    "    segments_per_frame[idx] = container.get_segments_from_selection('resname CHOL')\n",
    "    print(f'\\rWorking on frame {idx+1}/{segments_per_frame.shape[0]}.             ', \n",
    "          end='')"
   ]
  },
  {
   "cell_type": "code",
   "execution_count": 45,
   "id": "9fd01c70",
   "metadata": {},
   "outputs": [
    {
     "name": "stdout",
     "output_type": "stream",
     "text": [
      "[[2. 2. 2. ... 1. 1. 1.]\n",
      " [2. 2. 2. ... 1. 1. 1.]\n",
      " [2. 2. 2. ... 1. 1. 1.]\n",
      " ...\n",
      " [2. 1. 2. ... 1. 2. 2.]\n",
      " [2. 1. 2. ... 1. 2. 2.]\n",
      " [2. 1. 2. ... 1. 2. 2.]]\n"
     ]
    }
   ],
   "source": [
    "print(segments_per_frame)"
   ]
  },
  {
   "cell_type": "code",
   "execution_count": 46,
   "id": "26559ffd",
   "metadata": {},
   "outputs": [
    {
     "data": {
      "text/plain": [
       "array([15.,  2.])"
      ]
     },
     "execution_count": 46,
     "metadata": {},
     "output_type": "execute_result"
    }
   ],
   "source": [
    "# Create two faulty ones just for testing.\n",
    "segments_per_frame[10, 12] = 0\n",
    "segments_per_frame[10, 12] = 15\n",
    "segments_per_frame[10, [12, 13]]"
   ]
  },
  {
   "cell_type": "code",
   "execution_count": 47,
   "id": "56ef4252",
   "metadata": {},
   "outputs": [
    {
     "name": "stdout",
     "output_type": "stream",
     "text": [
      "[[2. 2. 2. ... 1. 1. 1.]\n",
      " [2. 2. 2. ... 1. 1. 1.]\n",
      " [2. 2. 2. ... 1. 1. 1.]\n",
      " ...\n",
      " [2. 1. 2. ... 1. 2. 2.]\n",
      " [2. 1. 2. ... 1. 2. 2.]\n",
      " [2. 1. 2. ... 1. 2. 2.]]\n"
     ]
    }
   ],
   "source": [
    "# To solve the problem of irrelevant assignment we replace out targets,\n",
    "#  by doing so we make sure that a value of -1 and 1 reflect a flip. \n",
    "#  All other values are not relevant.\n",
    "leaflet_mask1 = segments_per_frame==leaflet1\n",
    "leaflet_mask2 = segments_per_frame==leaflet2\n",
    "segments_per_frame[:] = 0\n",
    "segments_per_frame[leaflet_mask1] = 1\n",
    "segments_per_frame[leaflet_mask2] = 2\n",
    "print(segments_per_frame)"
   ]
  },
  {
   "cell_type": "code",
   "execution_count": 48,
   "id": "12035c7f",
   "metadata": {},
   "outputs": [
    {
     "name": "stdout",
     "output_type": "stream",
     "text": [
      "There is a bad one!\n"
     ]
    }
   ],
   "source": [
    "# Setting all values which are not relevant to their previous segment.\n",
    "#  This is for loop and probably we can do this better, but \n",
    "#  for now it is at least clear what we are doing.\n",
    "for idx, frame in enumerate(segments_per_frame):\n",
    "    if idx == 0:\n",
    "        continue\n",
    "    else:\n",
    "        # Find the indices of all the residues which \n",
    "        #  are not asigne to 0.\n",
    "        bad_resids = np.where(frame == 0)[0]\n",
    "        if bad_resids.size:\n",
    "            print('There is a bad one!')\n",
    "            # Set the value of a non set segment to the previous\n",
    "            #  value.\n",
    "            previous_frame = segments_per_frame[idx-1]\n",
    "            frame[list(bad_resids)] = previous_frame[bad_resids]"
   ]
  },
  {
   "cell_type": "code",
   "execution_count": 49,
   "id": "0c7eb9a7",
   "metadata": {},
   "outputs": [
    {
     "name": "stdout",
     "output_type": "stream",
     "text": [
      "[2. 2.]\n",
      "[2. 2.]\n"
     ]
    }
   ],
   "source": [
    "# These values should now be the same.\n",
    "print(segments_per_frame[ 9, [11, 12]])\n",
    "print(segments_per_frame[10, [11, 12]])"
   ]
  },
  {
   "cell_type": "code",
   "execution_count": 50,
   "id": "99c0e5ad",
   "metadata": {},
   "outputs": [],
   "source": [
    "# Calculating the flips by differentiating\n",
    "flips = segments_per_frame[1:] - segments_per_frame[:-1]"
   ]
  },
  {
   "cell_type": "markdown",
   "id": "f30ac695",
   "metadata": {},
   "source": [
    "## Plotting our simple flip-flop results"
   ]
  },
  {
   "cell_type": "code",
   "execution_count": 54,
   "id": "95986b60",
   "metadata": {},
   "outputs": [],
   "source": [
    "sums = [np.sum(np.abs(frame)) for frame in flips]"
   ]
  },
  {
   "cell_type": "code",
   "execution_count": 63,
   "id": "e096e4a5",
   "metadata": {},
   "outputs": [
    {
     "data": {
      "image/png": "[encoded data removed]",
      "text/plain": [
       "<Figure size 432x288 with 1 Axes>"
      ]
     },
     "metadata": {
      "needs_background": "light"
     },
     "output_type": "display_data"
    }
   ],
   "source": [
    "plt.plot(sums)\n",
    "plt.show()"
   ]
  },
  {
   "cell_type": "code",
   "execution_count": 79,
   "id": "f60ee9ca",
   "metadata": {},
   "outputs": [],
   "source": [
    "# Be careful, up and down is relative and this should be checked!\n",
    "ups_and_downs = dict()\n",
    "ups_and_downs['ups']   = []\n",
    "ups_and_downs['downs'] = []\n",
    "for row in flips:\n",
    "    ups_and_downs['ups'].append(len(np.where(row == 1)[0]))\n",
    "    ups_and_downs['downs'].append(-len(np.where(row == -1)[0]))"
   ]
  },
  {
   "cell_type": "code",
   "execution_count": 81,
   "id": "d65c918b",
   "metadata": {},
   "outputs": [
    {
     "data": {
      "image/png": "[encoded data removed]",
      "text/plain": [
       "<Figure size 432x288 with 1 Axes>"
      ]
     },
     "metadata": {
      "needs_background": "light"
     },
     "output_type": "display_data"
    }
   ],
   "source": [
    "plt.plot(ups_and_downs['ups'])\n",
    "plt.plot(ups_and_downs['downs'])\n",
    "plt.show()"
   ]
  }
 ],
 "metadata": {
  "kernelspec": {
   "display_name": "Python 3 (ipykernel)",
   "language": "python",
   "name": "python3"
  },
  "language_info": {
   "codemirror_mode": {
    "name": "ipython",
    "version": 3
   },
   "file_extension": ".py",
   "mimetype": "text/x-python",
   "name": "python",
   "nbconvert_exporter": "python",
   "pygments_lexer": "ipython3",
   "version": "3.8.10"
  }
 },
 "nbformat": 4,
 "nbformat_minor": 5
}
